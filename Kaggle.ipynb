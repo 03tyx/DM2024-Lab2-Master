{
 "cells": [
  {
   "cell_type": "markdown",
   "id": "206e7889",
   "metadata": {},
   "source": [
    "## Load Dataset"
   ]
  },
  {
   "cell_type": "code",
   "execution_count": 1,
   "id": "24291718",
   "metadata": {},
   "outputs": [],
   "source": [
    "import pandas as pd\n",
    "import json\n",
    "\n",
    "emotion_data = pd.read_csv('emotion.csv')\n",
    "identification_data = pd.read_csv('data_identification.csv')"
   ]
  },
  {
   "cell_type": "code",
   "execution_count": 2,
   "id": "f10c7a73",
   "metadata": {},
   "outputs": [],
   "source": [
    "with open(\"tweets_DM.json\", \"r\", encoding=\"utf-8\") as file:\n",
    "    tweets_data = pd.DataFrame(\n",
    "        json.loads(line)[\"_source\"][\"tweet\"]\n",
    "        for line in file\n",
    "    )\n",
    "    \n",
    "tweets_data.to_csv('tweets.csv', index=False)"
   ]
  },
  {
   "cell_type": "code",
   "execution_count": 3,
   "id": "64c56ea7",
   "metadata": {},
   "outputs": [],
   "source": [
    "tweet_data = pd.read_csv('tweets.csv')"
   ]
  },
  {
   "cell_type": "markdown",
   "id": "36878bf0",
   "metadata": {},
   "source": [
    "## Exploratory Data Analysis"
   ]
  },
  {
   "cell_type": "markdown",
   "id": "57c3e829",
   "metadata": {},
   "source": [
    "This step is to making sure that the data is loaded correctly and helps to understand the data structure."
   ]
  },
  {
   "cell_type": "code",
   "execution_count": 4,
   "id": "3901407c",
   "metadata": {},
   "outputs": [
    {
     "data": {
      "text/html": [
       "<div>\n",
       "<style scoped>\n",
       "    .dataframe tbody tr th:only-of-type {\n",
       "        vertical-align: middle;\n",
       "    }\n",
       "\n",
       "    .dataframe tbody tr th {\n",
       "        vertical-align: top;\n",
       "    }\n",
       "\n",
       "    .dataframe thead th {\n",
       "        text-align: right;\n",
       "    }\n",
       "</style>\n",
       "<table border=\"1\" class=\"dataframe\">\n",
       "  <thead>\n",
       "    <tr style=\"text-align: right;\">\n",
       "      <th></th>\n",
       "      <th>hashtags</th>\n",
       "      <th>tweet_id</th>\n",
       "      <th>text</th>\n",
       "    </tr>\n",
       "  </thead>\n",
       "  <tbody>\n",
       "    <tr>\n",
       "      <th>0</th>\n",
       "      <td>['Snapchat']</td>\n",
       "      <td>0x376b20</td>\n",
       "      <td>People who post \"add me on #Snapchat\" must be ...</td>\n",
       "    </tr>\n",
       "    <tr>\n",
       "      <th>1</th>\n",
       "      <td>['freepress', 'TrumpLegacy', 'CNN']</td>\n",
       "      <td>0x2d5350</td>\n",
       "      <td>@brianklaas As we see, Trump is dangerous to #...</td>\n",
       "    </tr>\n",
       "    <tr>\n",
       "      <th>2</th>\n",
       "      <td>['bibleverse']</td>\n",
       "      <td>0x28b412</td>\n",
       "      <td>Confident of your obedience, I write to you, k...</td>\n",
       "    </tr>\n",
       "    <tr>\n",
       "      <th>3</th>\n",
       "      <td>[]</td>\n",
       "      <td>0x1cd5b0</td>\n",
       "      <td>Now ISSA is stalking Tasha 😂😂😂 &lt;LH&gt;</td>\n",
       "    </tr>\n",
       "    <tr>\n",
       "      <th>4</th>\n",
       "      <td>[]</td>\n",
       "      <td>0x2de201</td>\n",
       "      <td>\"Trust is not the same as faith. A friend is s...</td>\n",
       "    </tr>\n",
       "  </tbody>\n",
       "</table>\n",
       "</div>"
      ],
      "text/plain": [
       "                              hashtags  tweet_id   \n",
       "0                         ['Snapchat']  0x376b20  \\\n",
       "1  ['freepress', 'TrumpLegacy', 'CNN']  0x2d5350   \n",
       "2                       ['bibleverse']  0x28b412   \n",
       "3                                   []  0x1cd5b0   \n",
       "4                                   []  0x2de201   \n",
       "\n",
       "                                                text  \n",
       "0  People who post \"add me on #Snapchat\" must be ...  \n",
       "1  @brianklaas As we see, Trump is dangerous to #...  \n",
       "2  Confident of your obedience, I write to you, k...  \n",
       "3                Now ISSA is stalking Tasha 😂😂😂 <LH>  \n",
       "4  \"Trust is not the same as faith. A friend is s...  "
      ]
     },
     "execution_count": 4,
     "metadata": {},
     "output_type": "execute_result"
    }
   ],
   "source": [
    "tweet_data.head()"
   ]
  },
  {
   "cell_type": "code",
   "execution_count": 5,
   "id": "641c3b1f",
   "metadata": {},
   "outputs": [
    {
     "data": {
      "text/html": [
       "<div>\n",
       "<style scoped>\n",
       "    .dataframe tbody tr th:only-of-type {\n",
       "        vertical-align: middle;\n",
       "    }\n",
       "\n",
       "    .dataframe tbody tr th {\n",
       "        vertical-align: top;\n",
       "    }\n",
       "\n",
       "    .dataframe thead th {\n",
       "        text-align: right;\n",
       "    }\n",
       "</style>\n",
       "<table border=\"1\" class=\"dataframe\">\n",
       "  <thead>\n",
       "    <tr style=\"text-align: right;\">\n",
       "      <th></th>\n",
       "      <th>tweet_id</th>\n",
       "      <th>emotion</th>\n",
       "    </tr>\n",
       "  </thead>\n",
       "  <tbody>\n",
       "    <tr>\n",
       "      <th>0</th>\n",
       "      <td>0x3140b1</td>\n",
       "      <td>sadness</td>\n",
       "    </tr>\n",
       "    <tr>\n",
       "      <th>1</th>\n",
       "      <td>0x368b73</td>\n",
       "      <td>disgust</td>\n",
       "    </tr>\n",
       "    <tr>\n",
       "      <th>2</th>\n",
       "      <td>0x296183</td>\n",
       "      <td>anticipation</td>\n",
       "    </tr>\n",
       "    <tr>\n",
       "      <th>3</th>\n",
       "      <td>0x2bd6e1</td>\n",
       "      <td>joy</td>\n",
       "    </tr>\n",
       "    <tr>\n",
       "      <th>4</th>\n",
       "      <td>0x2ee1dd</td>\n",
       "      <td>anticipation</td>\n",
       "    </tr>\n",
       "  </tbody>\n",
       "</table>\n",
       "</div>"
      ],
      "text/plain": [
       "   tweet_id       emotion\n",
       "0  0x3140b1       sadness\n",
       "1  0x368b73       disgust\n",
       "2  0x296183  anticipation\n",
       "3  0x2bd6e1           joy\n",
       "4  0x2ee1dd  anticipation"
      ]
     },
     "execution_count": 5,
     "metadata": {},
     "output_type": "execute_result"
    }
   ],
   "source": [
    "emotion_data.head()"
   ]
  },
  {
   "cell_type": "code",
   "execution_count": 6,
   "id": "1bdf8c30",
   "metadata": {},
   "outputs": [
    {
     "data": {
      "text/html": [
       "<div>\n",
       "<style scoped>\n",
       "    .dataframe tbody tr th:only-of-type {\n",
       "        vertical-align: middle;\n",
       "    }\n",
       "\n",
       "    .dataframe tbody tr th {\n",
       "        vertical-align: top;\n",
       "    }\n",
       "\n",
       "    .dataframe thead th {\n",
       "        text-align: right;\n",
       "    }\n",
       "</style>\n",
       "<table border=\"1\" class=\"dataframe\">\n",
       "  <thead>\n",
       "    <tr style=\"text-align: right;\">\n",
       "      <th></th>\n",
       "      <th>tweet_id</th>\n",
       "      <th>identification</th>\n",
       "    </tr>\n",
       "  </thead>\n",
       "  <tbody>\n",
       "    <tr>\n",
       "      <th>0</th>\n",
       "      <td>0x28cc61</td>\n",
       "      <td>test</td>\n",
       "    </tr>\n",
       "    <tr>\n",
       "      <th>1</th>\n",
       "      <td>0x29e452</td>\n",
       "      <td>train</td>\n",
       "    </tr>\n",
       "    <tr>\n",
       "      <th>2</th>\n",
       "      <td>0x2b3819</td>\n",
       "      <td>train</td>\n",
       "    </tr>\n",
       "    <tr>\n",
       "      <th>3</th>\n",
       "      <td>0x2db41f</td>\n",
       "      <td>test</td>\n",
       "    </tr>\n",
       "    <tr>\n",
       "      <th>4</th>\n",
       "      <td>0x2a2acc</td>\n",
       "      <td>train</td>\n",
       "    </tr>\n",
       "  </tbody>\n",
       "</table>\n",
       "</div>"
      ],
      "text/plain": [
       "   tweet_id identification\n",
       "0  0x28cc61           test\n",
       "1  0x29e452          train\n",
       "2  0x2b3819          train\n",
       "3  0x2db41f           test\n",
       "4  0x2a2acc          train"
      ]
     },
     "execution_count": 6,
     "metadata": {},
     "output_type": "execute_result"
    }
   ],
   "source": [
    "identification_data.head()"
   ]
  },
  {
   "cell_type": "code",
   "execution_count": 7,
   "id": "9d848260",
   "metadata": {},
   "outputs": [
    {
     "data": {
      "text/plain": [
       "(1867535, 3)"
      ]
     },
     "execution_count": 7,
     "metadata": {},
     "output_type": "execute_result"
    }
   ],
   "source": [
    "tweet_data.shape"
   ]
  },
  {
   "cell_type": "code",
   "execution_count": 8,
   "id": "cd38b26f",
   "metadata": {},
   "outputs": [
    {
     "data": {
      "text/plain": [
       "(1455563, 2)"
      ]
     },
     "execution_count": 8,
     "metadata": {},
     "output_type": "execute_result"
    }
   ],
   "source": [
    "emotion_data.shape"
   ]
  },
  {
   "cell_type": "code",
   "execution_count": 9,
   "id": "2318f2c1",
   "metadata": {},
   "outputs": [
    {
     "data": {
      "text/plain": [
       "(1867535, 2)"
      ]
     },
     "execution_count": 9,
     "metadata": {},
     "output_type": "execute_result"
    }
   ],
   "source": [
    "identification_data.shape"
   ]
  },
  {
   "cell_type": "markdown",
   "id": "4321a6b7",
   "metadata": {},
   "source": [
    "## Data Preprocessing"
   ]
  },
  {
   "cell_type": "markdown",
   "id": "79828b76",
   "metadata": {},
   "source": [
    "### Check for Missing and Duplicate Data"
   ]
  },
  {
   "cell_type": "markdown",
   "id": "8a7e739b",
   "metadata": {},
   "source": [
    "This step is to make sure there are no missing values or duplicated data in the dataset. Based on the output there are no missing values nor duplicated data found so no need to perform any steps to handle missing value nor drop the duplicated data."
   ]
  },
  {
   "cell_type": "code",
   "execution_count": 10,
   "id": "cdb4f4c9",
   "metadata": {},
   "outputs": [
    {
     "name": "stdout",
     "output_type": "stream",
     "text": [
      "\u001b[1mMissing values by Column : \u001b[0m\n",
      "------------------------------\n",
      "hashtags    0\n",
      "tweet_id    0\n",
      "text        0\n",
      "dtype: int64\n",
      "------------------------------\n",
      "Total Missing Values:  0\n"
     ]
    }
   ],
   "source": [
    "print(\"\\033[1mMissing values by Column : \\033[0m\")\n",
    "print(\"-\"*30)\n",
    "print(tweet_data.isna().sum())\n",
    "print(\"-\"*30)\n",
    "print(\"Total Missing Values: \",tweet_data.isna().sum().sum())"
   ]
  },
  {
   "cell_type": "code",
   "execution_count": 11,
   "id": "795778e7",
   "metadata": {},
   "outputs": [
    {
     "name": "stdout",
     "output_type": "stream",
     "text": [
      "\u001b[1mMissing values by Column : \u001b[0m\n",
      "------------------------------\n",
      "tweet_id    0\n",
      "emotion     0\n",
      "dtype: int64\n",
      "------------------------------\n",
      "Total Missing Values:  0\n"
     ]
    }
   ],
   "source": [
    "print(\"\\033[1mMissing values by Column : \\033[0m\")\n",
    "print(\"-\"*30)\n",
    "print(emotion_data.isna().sum())\n",
    "print(\"-\"*30)\n",
    "print(\"Total Missing Values: \",emotion_data.isna().sum().sum())"
   ]
  },
  {
   "cell_type": "code",
   "execution_count": 12,
   "id": "60d8a714",
   "metadata": {},
   "outputs": [
    {
     "name": "stdout",
     "output_type": "stream",
     "text": [
      "\u001b[1mMissing values by Column : \u001b[0m\n",
      "------------------------------\n",
      "tweet_id          0\n",
      "identification    0\n",
      "dtype: int64\n",
      "------------------------------\n",
      "Total Missing Values:  0\n"
     ]
    }
   ],
   "source": [
    "print(\"\\033[1mMissing values by Column : \\033[0m\")\n",
    "print(\"-\"*30)\n",
    "print(identification_data.isna().sum())\n",
    "print(\"-\"*30)\n",
    "print(\"Total Missing Values: \",identification_data.isna().sum().sum())"
   ]
  },
  {
   "cell_type": "code",
   "execution_count": 13,
   "id": "83e18e21",
   "metadata": {},
   "outputs": [
    {
     "name": "stdout",
     "output_type": "stream",
     "text": [
      "Duplicate tweet_id:\n",
      "Tweet Data: 0\n",
      "Emotion Data: 0\n",
      "Identification Data: 0\n"
     ]
    }
   ],
   "source": [
    "print(\"Duplicate tweet_id:\")\n",
    "print(\"Tweet Data:\", tweet_data.duplicated(subset=['tweet_id']).sum())\n",
    "print(\"Emotion Data:\", emotion_data.duplicated(subset=['tweet_id']).sum())\n",
    "print(\"Identification Data:\", identification_data.duplicated(subset=['tweet_id']).sum())\n"
   ]
  },
  {
   "cell_type": "markdown",
   "id": "84195100",
   "metadata": {},
   "source": [
    "### Merging Data"
   ]
  },
  {
   "cell_type": "markdown",
   "id": "5ac6a4a7",
   "metadata": {},
   "source": [
    "Identify the shape of the data before merging and ensure the same number of data is shown after merging.\n",
    "This merging is separate into test set merge and training set merge. They are merged separately as they have different data shape and different attributes. Train data has the emotion label to carry out supervised learning."
   ]
  },
  {
   "cell_type": "code",
   "execution_count": 14,
   "id": "336104fb",
   "metadata": {},
   "outputs": [
    {
     "data": {
      "text/plain": [
       "(411972, 2)"
      ]
     },
     "execution_count": 14,
     "metadata": {},
     "output_type": "execute_result"
    }
   ],
   "source": [
    "test_set = identification_data[identification_data['identification'] == 'test']\n",
    "test_set.shape\n"
   ]
  },
  {
   "cell_type": "code",
   "execution_count": 15,
   "id": "c79a8d6a",
   "metadata": {},
   "outputs": [
    {
     "data": {
      "text/plain": [
       "(411972, 4)"
      ]
     },
     "execution_count": 15,
     "metadata": {},
     "output_type": "execute_result"
    }
   ],
   "source": [
    "# Merge to get test tweets\n",
    "test_tweets = test_set.merge(tweet_data, on='tweet_id', how='inner')\n",
    "test_tweets.shape\n",
    "\n"
   ]
  },
  {
   "cell_type": "code",
   "execution_count": 16,
   "id": "3905ff5b",
   "metadata": {},
   "outputs": [
    {
     "data": {
      "text/html": [
       "<div>\n",
       "<style scoped>\n",
       "    .dataframe tbody tr th:only-of-type {\n",
       "        vertical-align: middle;\n",
       "    }\n",
       "\n",
       "    .dataframe tbody tr th {\n",
       "        vertical-align: top;\n",
       "    }\n",
       "\n",
       "    .dataframe thead th {\n",
       "        text-align: right;\n",
       "    }\n",
       "</style>\n",
       "<table border=\"1\" class=\"dataframe\">\n",
       "  <thead>\n",
       "    <tr style=\"text-align: right;\">\n",
       "      <th></th>\n",
       "      <th>tweet_id</th>\n",
       "      <th>identification</th>\n",
       "      <th>hashtags</th>\n",
       "      <th>text</th>\n",
       "    </tr>\n",
       "  </thead>\n",
       "  <tbody>\n",
       "    <tr>\n",
       "      <th>0</th>\n",
       "      <td>0x28cc61</td>\n",
       "      <td>test</td>\n",
       "      <td>[]</td>\n",
       "      <td>@Habbo I've seen two separate colours of the e...</td>\n",
       "    </tr>\n",
       "    <tr>\n",
       "      <th>1</th>\n",
       "      <td>0x2db41f</td>\n",
       "      <td>test</td>\n",
       "      <td>[]</td>\n",
       "      <td>@FoxNews @KellyannePolls No serious self respe...</td>\n",
       "    </tr>\n",
       "    <tr>\n",
       "      <th>2</th>\n",
       "      <td>0x2466f6</td>\n",
       "      <td>test</td>\n",
       "      <td>['womendrivers']</td>\n",
       "      <td>Looking for a new car, and it says 1 lady owne...</td>\n",
       "    </tr>\n",
       "    <tr>\n",
       "      <th>3</th>\n",
       "      <td>0x23f9e9</td>\n",
       "      <td>test</td>\n",
       "      <td>['robbingmembers']</td>\n",
       "      <td>@cineworld “only the brave” just out and fount...</td>\n",
       "    </tr>\n",
       "    <tr>\n",
       "      <th>4</th>\n",
       "      <td>0x1fb4e1</td>\n",
       "      <td>test</td>\n",
       "      <td>[]</td>\n",
       "      <td>Felt like total dog 💩 going into open gym and ...</td>\n",
       "    </tr>\n",
       "  </tbody>\n",
       "</table>\n",
       "</div>"
      ],
      "text/plain": [
       "   tweet_id identification            hashtags   \n",
       "0  0x28cc61           test                  []  \\\n",
       "1  0x2db41f           test                  []   \n",
       "2  0x2466f6           test    ['womendrivers']   \n",
       "3  0x23f9e9           test  ['robbingmembers']   \n",
       "4  0x1fb4e1           test                  []   \n",
       "\n",
       "                                                text  \n",
       "0  @Habbo I've seen two separate colours of the e...  \n",
       "1  @FoxNews @KellyannePolls No serious self respe...  \n",
       "2  Looking for a new car, and it says 1 lady owne...  \n",
       "3  @cineworld “only the brave” just out and fount...  \n",
       "4  Felt like total dog 💩 going into open gym and ...  "
      ]
     },
     "execution_count": 16,
     "metadata": {},
     "output_type": "execute_result"
    }
   ],
   "source": [
    "test_tweets.head()"
   ]
  },
  {
   "cell_type": "code",
   "execution_count": 17,
   "id": "52166b71",
   "metadata": {},
   "outputs": [
    {
     "data": {
      "text/plain": [
       "(1455563, 5)"
      ]
     },
     "execution_count": 17,
     "metadata": {},
     "output_type": "execute_result"
    }
   ],
   "source": [
    "train_set = identification_data[identification_data['identification'] == 'train']\n",
    "train_data = train_set.merge(tweet_data, on='tweet_id', how='inner').merge(emotion_data, on='tweet_id', how='inner')\n",
    "\n",
    "train_data.shape"
   ]
  },
  {
   "cell_type": "code",
   "execution_count": 18,
   "id": "32d77777",
   "metadata": {},
   "outputs": [
    {
     "data": {
      "text/html": [
       "<div>\n",
       "<style scoped>\n",
       "    .dataframe tbody tr th:only-of-type {\n",
       "        vertical-align: middle;\n",
       "    }\n",
       "\n",
       "    .dataframe tbody tr th {\n",
       "        vertical-align: top;\n",
       "    }\n",
       "\n",
       "    .dataframe thead th {\n",
       "        text-align: right;\n",
       "    }\n",
       "</style>\n",
       "<table border=\"1\" class=\"dataframe\">\n",
       "  <thead>\n",
       "    <tr style=\"text-align: right;\">\n",
       "      <th></th>\n",
       "      <th>tweet_id</th>\n",
       "      <th>identification</th>\n",
       "      <th>hashtags</th>\n",
       "      <th>text</th>\n",
       "      <th>emotion</th>\n",
       "    </tr>\n",
       "  </thead>\n",
       "  <tbody>\n",
       "    <tr>\n",
       "      <th>0</th>\n",
       "      <td>0x29e452</td>\n",
       "      <td>train</td>\n",
       "      <td>[]</td>\n",
       "      <td>Huge Respect🖒 @JohnnyVegasReal talking about l...</td>\n",
       "      <td>joy</td>\n",
       "    </tr>\n",
       "    <tr>\n",
       "      <th>1</th>\n",
       "      <td>0x2b3819</td>\n",
       "      <td>train</td>\n",
       "      <td>['spateradio', 'app']</td>\n",
       "      <td>Yoooo we hit all our monthly goals with the ne...</td>\n",
       "      <td>joy</td>\n",
       "    </tr>\n",
       "    <tr>\n",
       "      <th>2</th>\n",
       "      <td>0x2a2acc</td>\n",
       "      <td>train</td>\n",
       "      <td>[]</td>\n",
       "      <td>@KIDSNTS @PICU_BCH @uhbcomms @BWCHBoss Well do...</td>\n",
       "      <td>trust</td>\n",
       "    </tr>\n",
       "    <tr>\n",
       "      <th>3</th>\n",
       "      <td>0x2a8830</td>\n",
       "      <td>train</td>\n",
       "      <td>['PUBG', 'GamersUnite', 'twitch', 'BeHealthy',...</td>\n",
       "      <td>Come join @ambushman27 on #PUBG while he striv...</td>\n",
       "      <td>joy</td>\n",
       "    </tr>\n",
       "    <tr>\n",
       "      <th>4</th>\n",
       "      <td>0x20b21d</td>\n",
       "      <td>train</td>\n",
       "      <td>['strength', 'bones', 'God']</td>\n",
       "      <td>@fanshixieen2014 Blessings!My #strength little...</td>\n",
       "      <td>anticipation</td>\n",
       "    </tr>\n",
       "  </tbody>\n",
       "</table>\n",
       "</div>"
      ],
      "text/plain": [
       "   tweet_id identification                                           hashtags   \n",
       "0  0x29e452          train                                                 []  \\\n",
       "1  0x2b3819          train                              ['spateradio', 'app']   \n",
       "2  0x2a2acc          train                                                 []   \n",
       "3  0x2a8830          train  ['PUBG', 'GamersUnite', 'twitch', 'BeHealthy',...   \n",
       "4  0x20b21d          train                       ['strength', 'bones', 'God']   \n",
       "\n",
       "                                                text       emotion  \n",
       "0  Huge Respect🖒 @JohnnyVegasReal talking about l...           joy  \n",
       "1  Yoooo we hit all our monthly goals with the ne...           joy  \n",
       "2  @KIDSNTS @PICU_BCH @uhbcomms @BWCHBoss Well do...         trust  \n",
       "3  Come join @ambushman27 on #PUBG while he striv...           joy  \n",
       "4  @fanshixieen2014 Blessings!My #strength little...  anticipation  "
      ]
     },
     "execution_count": 18,
     "metadata": {},
     "output_type": "execute_result"
    }
   ],
   "source": [
    "train_data.head()"
   ]
  },
  {
   "cell_type": "markdown",
   "id": "ca22bceb",
   "metadata": {},
   "source": [
    "### Data Visualization"
   ]
  },
  {
   "cell_type": "markdown",
   "id": "38c2097c",
   "metadata": {},
   "source": [
    "A barplot is plotted to show the distribution of the emotion count in the train data. The visualization has shown that the number of joy has a huge difference from the other emotion. This shows that this is an imbalanced data. "
   ]
  },
  {
   "cell_type": "code",
   "execution_count": 20,
   "id": "9f529bf9",
   "metadata": {},
   "outputs": [
    {
     "data": {
      "image/png": "[encoded data removed]",
      "text/plain": [
       "<Figure size 1000x600 with 1 Axes>"
      ]
     },
     "metadata": {},
     "output_type": "display_data"
    }
   ],
   "source": [
    "import matplotlib.pyplot as plt\n",
    "import seaborn as sns\n",
    "\n",
    "emotion_count_train = train_data['emotion'].value_counts()\n",
    "\n",
    "plt.figure(figsize=(10, 6))\n",
    "sns.barplot(x=emotion_count_train.index, y=emotion_count_train.values, palette=\"viridis\")\n",
    "plt.title(\"Emotion Distribution in Train Data\")\n",
    "plt.xlabel(\"Emotion\")\n",
    "plt.ylabel(\"Count\")\n",
    "plt.show()"
   ]
  },
  {
   "cell_type": "code",
   "execution_count": 21,
   "id": "3c258094",
   "metadata": {},
   "outputs": [
    {
     "data": {
      "text/plain": [
       "emotion\n",
       "joy             516017\n",
       "anticipation    248935\n",
       "trust           205478\n",
       "sadness         193437\n",
       "disgust         139101\n",
       "fear             63999\n",
       "surprise         48729\n",
       "anger            39867\n",
       "Name: count, dtype: int64"
      ]
     },
     "execution_count": 21,
     "metadata": {},
     "output_type": "execute_result"
    }
   ],
   "source": [
    "emotion_count_train"
   ]
  },
  {
   "cell_type": "markdown",
   "id": "0886b329",
   "metadata": {},
   "source": [
    "### Text Preprocessing"
   ]
  },
  {
   "cell_type": "markdown",
   "id": "d0449e19",
   "metadata": {},
   "source": [
    "Stemming is carried out to stem the word in a sentence to its base word. This can help to increase accuracy. Besides, stopwords such as \"a\", \"an\", \"the\" will be removed. Tokenization also been carried out where the words are converted to lowercase.\n",
    "The preprocess_text function will tokenize the words in sentence with stemming and remove stopwords."
   ]
  },
  {
   "cell_type": "code",
   "execution_count": 22,
   "id": "1a96a5d0",
   "metadata": {},
   "outputs": [],
   "source": [
    "from sklearn.feature_extraction.text import TfidfVectorizer\n",
    "import nltk\n",
    "from nltk.corpus import stopwords\n",
    "from nltk.tokenize import word_tokenize\n",
    "from nltk.stem import PorterStemmer\n",
    "\n",
    "stemmer = PorterStemmer()\n",
    "stop_words = set(stopwords.words('english'))\n",
    "\n",
    "def preprocess_text(text):\n",
    "    # tokenization\n",
    "    word_tokens = word_tokenize(text)\n",
    "    # stemming\n",
    "    filtered_sentence = [stemmer.stem(w.lower()) for w in word_tokens if w.lower() not in stop_words]\n",
    "    return ' '.join(filtered_sentence)\n",
    "\n",
    "train_data['processed_text'] = train_data['text'].apply(preprocess_text)\n",
    "\n",
    "vectorizer = TfidfVectorizer()\n",
    "\n",
    "X = vectorizer.fit_transform(train_data['processed_text'])\n",
    "\n"
   ]
  },
  {
   "cell_type": "markdown",
   "id": "5525534e",
   "metadata": {},
   "source": [
    "### Splitting Data into Training and Testing Sets"
   ]
  },
  {
   "cell_type": "markdown",
   "id": "69d3f01f",
   "metadata": {},
   "source": [
    "The train data is splitted into training and testing sets where 80% of it is used for training and the other 20% is used for testing. This step is important to build model. Each model will use the X_train and y_train to evaluate the performance on X_test and y_test."
   ]
  },
  {
   "cell_type": "code",
   "execution_count": 23,
   "id": "71f5cc54",
   "metadata": {},
   "outputs": [],
   "source": [
    "from sklearn.model_selection import train_test_split\n",
    "\n",
    "X_train, X_test, y_train, y_test = train_test_split(X, train_data['emotion'], test_size=0.2, random_state=42)\n"
   ]
  },
  {
   "cell_type": "markdown",
   "id": "02502777",
   "metadata": {},
   "source": [
    "## Build Classification Model"
   ]
  },
  {
   "cell_type": "markdown",
   "id": "d485f3d1",
   "metadata": {},
   "source": [
    "### Linear Support Vector Classifier "
   ]
  },
  {
   "cell_type": "markdown",
   "id": "3d6c37dd",
   "metadata": {},
   "source": [
    "There are two models built using Linear Support Vector Classifier. One model is without class weight balancing while the another one is with class weight balancing. The model without the class weight balancing gets a higher overall accuracy. The recall of anger and surprise from the model without balancing is much lower comapred to the other emotion. This is because they are the minority classes in the data and is hard for the model to classify them correctly. The emotion joy has the highest recall as it is the majority class and the model can train well to classify it correctly. On the other hand, the recall of each emotion is more balance in the model with class weight balancing. Both the recall of anger and sadness have increased, however the recall of joy has a slight decrease as all the classes are balanced and the performance spread across all classes. "
   ]
  },
  {
   "cell_type": "code",
   "execution_count": 24,
   "id": "13ddd325",
   "metadata": {},
   "outputs": [
    {
     "name": "stdout",
     "output_type": "stream",
     "text": [
      "Accuracy: 0.5492437644488566\n",
      "              precision    recall  f1-score   support\n",
      "\n",
      "       anger       0.55      0.24      0.33      7964\n",
      "anticipation       0.60      0.55      0.57     49725\n",
      "     disgust       0.48      0.40      0.43     27892\n",
      "        fear       0.64      0.39      0.49     12955\n",
      "         joy       0.55      0.79      0.65    103089\n",
      "     sadness       0.52      0.46      0.49     38835\n",
      "    surprise       0.56      0.23      0.32      9750\n",
      "       trust       0.53      0.32      0.40     40903\n",
      "\n",
      "    accuracy                           0.55    291113\n",
      "   macro avg       0.55      0.42      0.46    291113\n",
      "weighted avg       0.55      0.55      0.53    291113\n",
      "\n"
     ]
    }
   ],
   "source": [
    "from sklearn.svm import LinearSVC\n",
    "from sklearn.metrics import classification_report, accuracy_score\n",
    "\n",
    "svc = LinearSVC()\n",
    "svc.fit(X_train, y_train)\n",
    "y_pred = svc.predict(X_test)\n",
    "print(\"Accuracy:\", accuracy_score(y_test, y_pred))\n",
    "print(classification_report(y_test, y_pred))\n"
   ]
  },
  {
   "cell_type": "code",
   "execution_count": 25,
   "id": "621b62d5",
   "metadata": {},
   "outputs": [
    {
     "name": "stdout",
     "output_type": "stream",
     "text": [
      "Accuracy: 0.5168851957830808\n",
      "              precision    recall  f1-score   support\n",
      "\n",
      "       anger       0.22      0.43      0.29      7964\n",
      "anticipation       0.59      0.57      0.58     49725\n",
      "     disgust       0.42      0.45      0.43     27892\n",
      "        fear       0.37      0.52      0.43     12955\n",
      "         joy       0.64      0.61      0.63    103089\n",
      "     sadness       0.50      0.45      0.47     38835\n",
      "    surprise       0.25      0.35      0.29      9750\n",
      "       trust       0.48      0.39      0.43     40903\n",
      "\n",
      "    accuracy                           0.52    291113\n",
      "   macro avg       0.43      0.47      0.44    291113\n",
      "weighted avg       0.53      0.52      0.52    291113\n",
      "\n"
     ]
    }
   ],
   "source": [
    "from sklearn.svm import LinearSVC\n",
    "from sklearn.metrics import classification_report, accuracy_score\n",
    "\n",
    "svc = LinearSVC(class_weight='balanced')\n",
    "svc.fit(X_train, y_train)\n",
    "y_pred = svc.predict(X_test)\n",
    "print(\"Accuracy:\", accuracy_score(y_test, y_pred))\n",
    "print(classification_report(y_test, y_pred))\n"
   ]
  },
  {
   "cell_type": "markdown",
   "id": "e2a21184",
   "metadata": {},
   "source": [
    "### Logistic Regression"
   ]
  },
  {
   "cell_type": "markdown",
   "id": "32ee3ce2",
   "metadata": {},
   "source": [
    "There are two models built using Logistic Regression. One model is without class weight balancing while the another one is with class weight balancing. The results of both models are almost the same as the Linear Support Vector Classifier. However, logistic regression without class weight balance gets a slightly higher acccuracy compared to LinearSVC without class weight balance. This is because logistic regression can handle imbalance data better as it is probabilistic based which normalizes probabilities across all classes. LinearSVC is sensitive to class imbalance and will cause the minority class to have low performance. "
   ]
  },
  {
   "cell_type": "code",
   "execution_count": 26,
   "id": "cdb8f3c2",
   "metadata": {},
   "outputs": [
    {
     "name": "stderr",
     "output_type": "stream",
     "text": [
      "C:\\Users\\User\\AppData\\Local\\Programs\\Python\\Python311\\Lib\\site-packages\\sklearn\\linear_model\\_logistic.py:458: ConvergenceWarning: lbfgs failed to converge (status=1):\n",
      "STOP: TOTAL NO. of ITERATIONS REACHED LIMIT.\n",
      "\n",
      "Increase the number of iterations (max_iter) or scale the data as shown in:\n",
      "    https://scikit-learn.org/stable/modules/preprocessing.html\n",
      "Please also refer to the documentation for alternative solver options:\n",
      "    https://scikit-learn.org/stable/modules/linear_model.html#logistic-regression\n",
      "  n_iter_i = _check_optimize_result(\n"
     ]
    },
    {
     "name": "stdout",
     "output_type": "stream",
     "text": [
      "Accuracy: 0.5553788391449368\n",
      "              precision    recall  f1-score   support\n",
      "\n",
      "       anger       0.63      0.23      0.33      7964\n",
      "anticipation       0.63      0.53      0.58     49725\n",
      "     disgust       0.50      0.40      0.44     27892\n",
      "        fear       0.72      0.37      0.49     12955\n",
      "         joy       0.54      0.83      0.65    103089\n",
      "     sadness       0.53      0.47      0.49     38835\n",
      "    surprise       0.65      0.21      0.32      9750\n",
      "       trust       0.58      0.30      0.39     40903\n",
      "\n",
      "    accuracy                           0.56    291113\n",
      "   macro avg       0.60      0.42      0.46    291113\n",
      "weighted avg       0.57      0.56      0.53    291113\n",
      "\n"
     ]
    }
   ],
   "source": [
    "from sklearn.linear_model import LogisticRegression\n",
    "from sklearn.metrics import classification_report, accuracy_score\n",
    "\n",
    "lr = LogisticRegression(max_iter=1000)  \n",
    "lr.fit(X_train, y_train)\n",
    "y_pred = lr.predict(X_test)\n",
    "\n",
    "print(\"Accuracy:\", accuracy_score(y_test, y_pred))\n",
    "print(classification_report(y_test, y_pred))\n"
   ]
  },
  {
   "cell_type": "code",
   "execution_count": 27,
   "id": "0a92a1e5",
   "metadata": {},
   "outputs": [
    {
     "name": "stderr",
     "output_type": "stream",
     "text": [
      "C:\\Users\\User\\AppData\\Local\\Programs\\Python\\Python311\\Lib\\site-packages\\sklearn\\linear_model\\_logistic.py:458: ConvergenceWarning: lbfgs failed to converge (status=1):\n",
      "STOP: TOTAL NO. of ITERATIONS REACHED LIMIT.\n",
      "\n",
      "Increase the number of iterations (max_iter) or scale the data as shown in:\n",
      "    https://scikit-learn.org/stable/modules/preprocessing.html\n",
      "Please also refer to the documentation for alternative solver options:\n",
      "    https://scikit-learn.org/stable/modules/linear_model.html#logistic-regression\n",
      "  n_iter_i = _check_optimize_result(\n"
     ]
    },
    {
     "name": "stdout",
     "output_type": "stream",
     "text": [
      "Accuracy: 0.48955903721235394\n",
      "              precision    recall  f1-score   support\n",
      "\n",
      "       anger       0.20      0.49      0.28      7964\n",
      "anticipation       0.59      0.57      0.58     49725\n",
      "     disgust       0.40      0.48      0.44     27892\n",
      "        fear       0.33      0.55      0.41     12955\n",
      "         joy       0.71      0.48      0.57    103089\n",
      "     sadness       0.51      0.43      0.47     38835\n",
      "    surprise       0.21      0.42      0.28      9750\n",
      "       trust       0.43      0.47      0.45     40903\n",
      "\n",
      "    accuracy                           0.49    291113\n",
      "   macro avg       0.42      0.49      0.43    291113\n",
      "weighted avg       0.55      0.49      0.50    291113\n",
      "\n"
     ]
    }
   ],
   "source": [
    "from sklearn.linear_model import LogisticRegression\n",
    "from sklearn.metrics import classification_report, accuracy_score\n",
    "\n",
    "lr = LogisticRegression(max_iter=1000, class_weight='balanced')  \n",
    "lr.fit(X_train, y_train)\n",
    "y_pred = lr.predict(X_test)\n",
    "\n",
    "print(\"Accuracy:\", accuracy_score(y_test, y_pred))\n",
    "print(classification_report(y_test, y_pred))\n"
   ]
  },
  {
   "cell_type": "markdown",
   "id": "f1a12458",
   "metadata": {},
   "source": [
    "### Multinomial Naive Bayes"
   ]
  },
  {
   "cell_type": "markdown",
   "id": "ad7332cf",
   "metadata": {},
   "source": [
    "The low accuracy but high recall of the majority class joy shows that the model tends to overpredict joy bacause it is the largest class. The minority classes which are the anger and surprise have a perfect precision and very low recall. This is because they have less data and cause less prediction to be done on them and just nice all the predictions are correct resulting a perfect precision score. Imbalance data making this model not suitable to be used as this model assume feature independence and might not match with the feature here as each feature might be realated to express an emotion. Besides, this model cannot distinguish feature overlap such as angry and frustrating."
   ]
  },
  {
   "cell_type": "code",
   "execution_count": 28,
   "id": "cc775911",
   "metadata": {},
   "outputs": [
    {
     "name": "stdout",
     "output_type": "stream",
     "text": [
      "Accuracy: 0.46355538914442157\n",
      "              precision    recall  f1-score   support\n",
      "\n",
      "       anger       1.00      0.08      0.15      7964\n",
      "anticipation       0.76      0.32      0.45     49725\n",
      "     disgust       0.69      0.09      0.16     27892\n",
      "        fear       0.98      0.07      0.14     12955\n",
      "         joy       0.41      0.97      0.58    103089\n",
      "     sadness       0.59      0.28      0.38     38835\n",
      "    surprise       1.00      0.08      0.15      9750\n",
      "       trust       0.83      0.08      0.15     40903\n",
      "\n",
      "    accuracy                           0.46    291113\n",
      "   macro avg       0.78      0.25      0.27    291113\n",
      "weighted avg       0.64      0.46      0.38    291113\n",
      "\n"
     ]
    }
   ],
   "source": [
    "# multionomial naive bayes\n",
    "from sklearn.naive_bayes import MultinomialNB\n",
    "from sklearn.metrics import classification_report, accuracy_score\n",
    "\n",
    "nb = MultinomialNB()\n",
    "nb.fit(X_train, y_train)\n",
    "y_pred = nb.predict(X_test)\n",
    "print(\"Accuracy:\", accuracy_score(y_test, y_pred))\n",
    "print(classification_report(y_test, y_pred))\n"
   ]
  },
  {
   "cell_type": "markdown",
   "id": "2f28fe00",
   "metadata": {},
   "source": [
    "### Output csv file"
   ]
  },
  {
   "cell_type": "markdown",
   "id": "7f164a90",
   "metadata": {},
   "source": [
    "The model that output the highest accuracy which is the logisic regression without class weight balance is chosen to output the csv file. Firstly, preprocess the text in test_tweets which will remove the punctuation, remove stopwords and covnert the text into lowercase. Then, vectorize the text into numerical feature and then the trained logistic model is used to predict the emotion."
   ]
  },
  {
   "cell_type": "code",
   "execution_count": 30,
   "id": "f644e81e",
   "metadata": {},
   "outputs": [
    {
     "name": "stdout",
     "output_type": "stream",
     "text": [
      "Successfully save the file\n"
     ]
    }
   ],
   "source": [
    "from sklearn.linear_model import LogisticRegression\n",
    "import pandas as pd\n",
    "\n",
    "test_tweets['processed_text'] = test_tweets['text'].apply(preprocess_text)\n",
    "\n",
    "X_test_final = vectorizer.transform(test_tweets['processed_text'])\n",
    "\n",
    "y_pred_test = lr.predict(X_test_final)\n",
    "\n",
    "submission_df = pd.DataFrame({\n",
    "    'id': test_tweets['tweet_id'],\n",
    "    'emotion': y_pred_test\n",
    "})\n",
    "\n",
    "submission_df.to_csv('sampleSubmission.csv', index=False)\n",
    "\n",
    "print(\"Successfully save the file\")\n"
   ]
  }
 ],
 "metadata": {
  "kernelspec": {
   "display_name": "Python 3 (ipykernel)",
   "language": "python",
   "name": "python3"
  },
  "language_info": {
   "codemirror_mode": {
    "name": "ipython",
    "version": 3
   },
   "file_extension": ".py",
   "mimetype": "text/x-python",
   "name": "python",
   "nbconvert_exporter": "python",
   "pygments_lexer": "ipython3",
   "version": "3.11.3"
  }
 },
 "nbformat": 4,
 "nbformat_minor": 5
}
